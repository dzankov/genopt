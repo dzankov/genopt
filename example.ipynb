{
 "cells": [
  {
   "cell_type": "code",
   "execution_count": null,
   "metadata": {},
   "outputs": [],
   "source": [
    "from genopt.optimizer import SGA\n",
    "from genopt.scalers import sigma_trunc_scaling\n",
    "from genopt.selectors import tournament_selection\n",
    "from genopt.crossovers import whole_arithmetic_crossover\n",
    "from genopt.mutators import uniform_mutation"
   ]
  },
  {
   "cell_type": "code",
   "execution_count": null,
   "metadata": {},
   "outputs": [],
   "source": [
    "def objective(x):\n",
    "    return sum([i ** 2 for i in x])"
   ]
  },
  {
   "cell_type": "code",
   "execution_count": null,
   "metadata": {},
   "outputs": [],
   "source": [
    "ga = SGA(task='minimize', pop_size=50, cross_prob=0.8, mut_prob=0.1, elitism=True)\n",
    "ga.set_selector_type(tournament_selection)\n",
    "ga.set_scaler_type(sigma_trunc_scaling)\n",
    "ga.set_crossover_type(whole_arithmetic_crossover)\n",
    "ga.set_mutator_type(uniform_mutation)\n",
    "ga.set_fitness(objective)\n",
    "\n",
    "ga.initialize(space)   \n",
    "\n",
    "#ga.run(n_iter=500, verbose=True)"
   ]
  },
  {
   "cell_type": "code",
   "execution_count": null,
   "metadata": {},
   "outputs": [],
   "source": [
    "for i in range(50):\n",
    "    ga.step()\n",
    "    print(ga.best_individual())"
   ]
  },
  {
   "cell_type": "code",
   "execution_count": null,
   "metadata": {},
   "outputs": [],
   "source": [
    "from random import choices\n",
    "\n",
    "def weighted_sample_without_replacement(population, weights, k=1):\n",
    "    weights = list(weights)\n",
    "    positions = range(len(population))\n",
    "    indices = []\n",
    "    n = 0\n",
    "    while True:\n",
    "        n += 1\n",
    "        if n > 100:\n",
    "            return [population[0], population[1], population[2]]\n",
    "        needed = k - len(indices)\n",
    "        if not needed:\n",
    "            break\n",
    "        for i in choices(positions, weights, k=needed):\n",
    "            if weights[i]:\n",
    "                weights[i] = 0.0\n",
    "                indices.append(i)\n",
    "    return [population[i] for i in indices]"
   ]
  },
  {
   "cell_type": "code",
   "execution_count": null,
   "metadata": {},
   "outputs": [],
   "source": [
    "a = ['BB', 'NEXT', 'RULE']\n",
    "w = [0.8, 0.6, 0.1]"
   ]
  },
  {
   "cell_type": "code",
   "execution_count": null,
   "metadata": {},
   "outputs": [],
   "source": [
    "weighted_sample_without_replacement(a, w)"
   ]
  },
  {
   "cell_type": "code",
   "execution_count": null,
   "metadata": {},
   "outputs": [],
   "source": []
  }
 ],
 "metadata": {
  "kernelspec": {
   "display_name": "base",
   "language": "python",
   "name": "base"
  },
  "language_info": {
   "codemirror_mode": {
    "name": "ipython",
    "version": 3
   },
   "file_extension": ".py",
   "mimetype": "text/x-python",
   "name": "python",
   "nbconvert_exporter": "python",
   "pygments_lexer": "ipython3",
   "version": "3.8.3"
  }
 },
 "nbformat": 4,
 "nbformat_minor": 4
}
